{
  "nbformat": 4,
  "nbformat_minor": 0,
  "metadata": {
    "colab": {
      "provenance": [],
      "authorship_tag": "ABX9TyPk2KPlqJRkYGOndNYtVJdt",
      "include_colab_link": true
    },
    "kernelspec": {
      "name": "ir",
      "display_name": "R"
    },
    "language_info": {
      "name": "R"
    }
  },
  "cells": [
    {
      "cell_type": "markdown",
      "metadata": {
        "id": "view-in-github",
        "colab_type": "text"
      },
      "source": [
        "<a href=\"https://colab.research.google.com/github/KluyvertSouza/Estima-o-de-Volume-comercial-de-Madeira/blob/main/Modelagem_Volume_Comercial_de_Madeira.ipynb\" target=\"_parent\"><img src=\"https://colab.research.google.com/assets/colab-badge.svg\" alt=\"Open In Colab\"/></a>"
      ]
    },
    {
      "cell_type": "code",
      "execution_count": 1,
      "metadata": {
        "id": "_BXgZVa19aOt"
      },
      "outputs": [],
      "source": [
        "# Importação de dados ----\n",
        "\n",
        "fonte = read.table(\"/content/geral(Dados).csv\", encoding=\"UTF8\", sep=\";\", quote=\"\\\"\")\n",
        "dados = fonte\n",
        "\n",
        "## Tratamento dos dados ----\n",
        "colnames(dados) = dados[1,] # Por problemas de importação, preferi ajustar o nome das colunas manualmente.\n",
        "dados = dados[-1,]\n",
        "names(dados)[c(2,4)] = c(\"Número arvore\", \"Nome Científico\") # Problemas com acentos\n",
        "\n",
        "library(stringr) #Para substituir ponto por vígula :)\n",
        "\n",
        "dados$`DAP(m)` = str_replace(dados$`DAP(m)` , ',',  '.') %>% as.numeric()\n",
        "dados$`Volume m3` = str_replace(dados$`Volume m3` , ',',  '.') %>% as.numeric()\n",
        "\n",
        "# Problemas resolvidos :) (eu acho)\n",
        "# ----------------------------------------------------- #\n"
      ]
    },
    {
      "cell_type": "code",
      "source": [
        "# Data Frame que contém dados referentes a todas as espécies.\n",
        "head(dados)"
      ],
      "metadata": {
        "colab": {
          "base_uri": "https://localhost:8080/",
          "height": 286
        },
        "id": "V9pDNca2-MsR",
        "outputId": "b4787f96-3da7-4765-f453-57f0ed7f1ee4"
      },
      "execution_count": 2,
      "outputs": [
        {
          "output_type": "display_data",
          "data": {
            "text/html": [
              "<table class=\"dataframe\">\n",
              "<caption>A data.frame: 6 × 7</caption>\n",
              "<thead>\n",
              "\t<tr><th></th><th scope=col>UMF_UPA</th><th scope=col>Número arvore</th><th scope=col>UT</th><th scope=col>Nome Científico</th><th scope=col>Nome Comum</th><th scope=col>DAP(m)</th><th scope=col>Volume m3</th></tr>\n",
              "\t<tr><th></th><th scope=col>&lt;chr&gt;</th><th scope=col>&lt;chr&gt;</th><th scope=col>&lt;chr&gt;</th><th scope=col>&lt;chr&gt;</th><th scope=col>&lt;chr&gt;</th><th scope=col>&lt;dbl&gt;</th><th scope=col>&lt;dbl&gt;</th></tr>\n",
              "</thead>\n",
              "<tbody>\n",
              "\t<tr><th scope=row>2</th><td>ALT4_UPA1</td><td>55</td><td>11</td><td> Brosimum parinarioides Ducke     </td><td>Amapa doce   </td><td>0.55</td><td> 3.96</td></tr>\n",
              "\t<tr><th scope=row>3</th><td>ALT4_UPA1</td><td>28</td><td>10</td><td> Neoxythece elegans (A.DC.) Aubret</td><td>Guajara pedra</td><td>0.70</td><td> 6.47</td></tr>\n",
              "\t<tr><th scope=row>4</th><td>ALT4_UPA1</td><td>44</td><td>10</td><td> Neoxythece elegans (A.DC.) Aubret</td><td>Guajara pedra</td><td>0.45</td><td> 2.73</td></tr>\n",
              "\t<tr><th scope=row>5</th><td>ALT4_UPA1</td><td>54</td><td>11</td><td> Neoxythece elegans (A.DC.) Aubret</td><td>Guajara pedra</td><td>0.89</td><td>11.35</td></tr>\n",
              "\t<tr><th scope=row>6</th><td>ALT4_UPA1</td><td>64</td><td>11</td><td> Neoxythece elegans (A.DC.) Aubret</td><td>Guajara pedra</td><td>0.60</td><td> 5.23</td></tr>\n",
              "\t<tr><th scope=row>7</th><td>ALT4_UPA1</td><td>77</td><td>13</td><td> Neoxythece elegans (A.DC.) Aubret</td><td>Guajara pedra</td><td>0.60</td><td> 5.03</td></tr>\n",
              "</tbody>\n",
              "</table>\n"
            ],
            "text/markdown": "\nA data.frame: 6 × 7\n\n| <!--/--> | UMF_UPA &lt;chr&gt; | Número arvore &lt;chr&gt; | UT &lt;chr&gt; | Nome Científico &lt;chr&gt; | Nome Comum &lt;chr&gt; | DAP(m) &lt;dbl&gt; | Volume m3 &lt;dbl&gt; |\n|---|---|---|---|---|---|---|---|\n| 2 | ALT4_UPA1 | 55 | 11 |  Brosimum parinarioides Ducke      | Amapa doce    | 0.55 |  3.96 |\n| 3 | ALT4_UPA1 | 28 | 10 |  Neoxythece elegans (A.DC.) Aubret | Guajara pedra | 0.70 |  6.47 |\n| 4 | ALT4_UPA1 | 44 | 10 |  Neoxythece elegans (A.DC.) Aubret | Guajara pedra | 0.45 |  2.73 |\n| 5 | ALT4_UPA1 | 54 | 11 |  Neoxythece elegans (A.DC.) Aubret | Guajara pedra | 0.89 | 11.35 |\n| 6 | ALT4_UPA1 | 64 | 11 |  Neoxythece elegans (A.DC.) Aubret | Guajara pedra | 0.60 |  5.23 |\n| 7 | ALT4_UPA1 | 77 | 13 |  Neoxythece elegans (A.DC.) Aubret | Guajara pedra | 0.60 |  5.03 |\n\n",
            "text/latex": "A data.frame: 6 × 7\n\\begin{tabular}{r|lllllll}\n  & UMF\\_UPA & Número arvore & UT & Nome Científico & Nome Comum & DAP(m) & Volume m3\\\\\n  & <chr> & <chr> & <chr> & <chr> & <chr> & <dbl> & <dbl>\\\\\n\\hline\n\t2 & ALT4\\_UPA1 & 55 & 11 &  Brosimum parinarioides Ducke      & Amapa doce    & 0.55 &  3.96\\\\\n\t3 & ALT4\\_UPA1 & 28 & 10 &  Neoxythece elegans (A.DC.) Aubret & Guajara pedra & 0.70 &  6.47\\\\\n\t4 & ALT4\\_UPA1 & 44 & 10 &  Neoxythece elegans (A.DC.) Aubret & Guajara pedra & 0.45 &  2.73\\\\\n\t5 & ALT4\\_UPA1 & 54 & 11 &  Neoxythece elegans (A.DC.) Aubret & Guajara pedra & 0.89 & 11.35\\\\\n\t6 & ALT4\\_UPA1 & 64 & 11 &  Neoxythece elegans (A.DC.) Aubret & Guajara pedra & 0.60 &  5.23\\\\\n\t7 & ALT4\\_UPA1 & 77 & 13 &  Neoxythece elegans (A.DC.) Aubret & Guajara pedra & 0.60 &  5.03\\\\\n\\end{tabular}\n",
            "text/plain": [
              "  UMF_UPA   Número arvore UT Nome Científico                    Nome Comum   \n",
              "2 ALT4_UPA1 55            11  Brosimum parinarioides Ducke      Amapa doce   \n",
              "3 ALT4_UPA1 28            10  Neoxythece elegans (A.DC.) Aubret Guajara pedra\n",
              "4 ALT4_UPA1 44            10  Neoxythece elegans (A.DC.) Aubret Guajara pedra\n",
              "5 ALT4_UPA1 54            11  Neoxythece elegans (A.DC.) Aubret Guajara pedra\n",
              "6 ALT4_UPA1 64            11  Neoxythece elegans (A.DC.) Aubret Guajara pedra\n",
              "7 ALT4_UPA1 77            13  Neoxythece elegans (A.DC.) Aubret Guajara pedra\n",
              "  DAP(m) Volume m3\n",
              "2 0.55    3.96    \n",
              "3 0.70    6.47    \n",
              "4 0.45    2.73    \n",
              "5 0.89   11.35    \n",
              "6 0.60    5.23    \n",
              "7 0.60    5.03    "
            ]
          },
          "metadata": {}
        }
      ]
    },
    {
      "cell_type": "code",
      "source": [
        "# Vamos entender primeiro os dados\n",
        "# Descritiva ----\n",
        "library(dplyr)\n",
        "especies = dados %>%\n",
        "              group_by(`Nome Científico`) %>%\n",
        "              count() %>%\n",
        "              as.data.frame() %>%\n",
        "              arrange(desc(n))\n",
        "\n",
        "head(especies)"
      ],
      "metadata": {
        "colab": {
          "base_uri": "https://localhost:8080/",
          "height": 529
        },
        "id": "JWUjJKtq-eBY",
        "outputId": "d50e9b8f-d298-404a-8df4-92587c019467"
      },
      "execution_count": 3,
      "outputs": [
        {
          "output_type": "stream",
          "name": "stderr",
          "text": [
            "\n",
            "Attaching package: ‘dplyr’\n",
            "\n",
            "\n",
            "The following objects are masked from ‘package:stats’:\n",
            "\n",
            "    filter, lag\n",
            "\n",
            "\n",
            "The following objects are masked from ‘package:base’:\n",
            "\n",
            "    intersect, setdiff, setequal, union\n",
            "\n",
            "\n"
          ]
        },
        {
          "output_type": "display_data",
          "data": {
            "text/html": [
              "<table class=\"dataframe\">\n",
              "<caption>A data.frame: 6 × 2</caption>\n",
              "<thead>\n",
              "\t<tr><th></th><th scope=col>Nome Científico</th><th scope=col>n</th></tr>\n",
              "\t<tr><th></th><th scope=col>&lt;chr&gt;</th><th scope=col>&lt;int&gt;</th></tr>\n",
              "</thead>\n",
              "<tbody>\n",
              "\t<tr><th scope=row>1</th><td>Tabebuia serratifolia      </td><td>5007</td></tr>\n",
              "\t<tr><th scope=row>2</th><td>Hymenaea courbaril         </td><td>3902</td></tr>\n",
              "\t<tr><th scope=row>3</th><td>Apuleia leiocarpa          </td><td>3768</td></tr>\n",
              "\t<tr><th scope=row>4</th><td>Tabebuia impetiginosa      </td><td>1883</td></tr>\n",
              "\t<tr><th scope=row>5</th><td>Couratari guianensis       </td><td> 831</td></tr>\n",
              "\t<tr><th scope=row>6</th><td>Chrysophyllum lucentifolium</td><td> 685</td></tr>\n",
              "</tbody>\n",
              "</table>\n"
            ],
            "text/markdown": "\nA data.frame: 6 × 2\n\n| <!--/--> | Nome Científico &lt;chr&gt; | n &lt;int&gt; |\n|---|---|---|\n| 1 | Tabebuia serratifolia       | 5007 |\n| 2 | Hymenaea courbaril          | 3902 |\n| 3 | Apuleia leiocarpa           | 3768 |\n| 4 | Tabebuia impetiginosa       | 1883 |\n| 5 | Couratari guianensis        |  831 |\n| 6 | Chrysophyllum lucentifolium |  685 |\n\n",
            "text/latex": "A data.frame: 6 × 2\n\\begin{tabular}{r|ll}\n  & Nome Científico & n\\\\\n  & <chr> & <int>\\\\\n\\hline\n\t1 & Tabebuia serratifolia       & 5007\\\\\n\t2 & Hymenaea courbaril          & 3902\\\\\n\t3 & Apuleia leiocarpa           & 3768\\\\\n\t4 & Tabebuia impetiginosa       & 1883\\\\\n\t5 & Couratari guianensis        &  831\\\\\n\t6 & Chrysophyllum lucentifolium &  685\\\\\n\\end{tabular}\n",
            "text/plain": [
              "  Nome Científico             n   \n",
              "1 Tabebuia serratifolia       5007\n",
              "2 Hymenaea courbaril          3902\n",
              "3 Apuleia leiocarpa           3768\n",
              "4 Tabebuia impetiginosa       1883\n",
              "5 Couratari guianensis         831\n",
              "6 Chrysophyllum lucentifolium  685"
            ]
          },
          "metadata": {}
        }
      ]
    },
    {
      "cell_type": "markdown",
      "source": [
        "Como a espécie mais frequênte é a Tabebuia serratifolia, o exemplo mostrado será ela"
      ],
      "metadata": {
        "id": "nfK-sJO2C80x"
      }
    },
    {
      "cell_type": "code",
      "source": [
        "grupos =\n",
        "  dados %>%\n",
        "  filter(`Nome Científico` == \"Tabebuia serratifolia\") %>%\n",
        "  group_by(UMF_UPA) %>%\n",
        "  count() %>%\n",
        "  arrange(desc(n))\n",
        "\n",
        "grupos"
      ],
      "metadata": {
        "colab": {
          "base_uri": "https://localhost:8080/",
          "height": 349
        },
        "id": "vsH1NTZFByLp",
        "outputId": "04be60e8-3a54-47b4-96b3-0af12962a0c4"
      },
      "execution_count": 4,
      "outputs": [
        {
          "output_type": "display_data",
          "data": {
            "text/html": [
              "<table class=\"dataframe\">\n",
              "<caption>A grouped_df: 8 × 2</caption>\n",
              "<thead>\n",
              "\t<tr><th scope=col>UMF_UPA</th><th scope=col>n</th></tr>\n",
              "\t<tr><th scope=col>&lt;chr&gt;</th><th scope=col>&lt;int&gt;</th></tr>\n",
              "</thead>\n",
              "<tbody>\n",
              "\t<tr><td>ALT3_UPA2</td><td>1098</td></tr>\n",
              "\t<tr><td>ALT4_UPA2</td><td>1041</td></tr>\n",
              "\t<tr><td>ALT2_UPA2</td><td> 766</td></tr>\n",
              "\t<tr><td>ALT2_UPA1</td><td> 676</td></tr>\n",
              "\t<tr><td>ALT3_UPA1</td><td> 626</td></tr>\n",
              "\t<tr><td>ALT2_UPA3</td><td> 308</td></tr>\n",
              "\t<tr><td>ALT1_UPA1</td><td> 290</td></tr>\n",
              "\t<tr><td>ALT4_UPA1</td><td> 202</td></tr>\n",
              "</tbody>\n",
              "</table>\n"
            ],
            "text/markdown": "\nA grouped_df: 8 × 2\n\n| UMF_UPA &lt;chr&gt; | n &lt;int&gt; |\n|---|---|\n| ALT3_UPA2 | 1098 |\n| ALT4_UPA2 | 1041 |\n| ALT2_UPA2 |  766 |\n| ALT2_UPA1 |  676 |\n| ALT3_UPA1 |  626 |\n| ALT2_UPA3 |  308 |\n| ALT1_UPA1 |  290 |\n| ALT4_UPA1 |  202 |\n\n",
            "text/latex": "A grouped\\_df: 8 × 2\n\\begin{tabular}{ll}\n UMF\\_UPA & n\\\\\n <chr> & <int>\\\\\n\\hline\n\t ALT3\\_UPA2 & 1098\\\\\n\t ALT4\\_UPA2 & 1041\\\\\n\t ALT2\\_UPA2 &  766\\\\\n\t ALT2\\_UPA1 &  676\\\\\n\t ALT3\\_UPA1 &  626\\\\\n\t ALT2\\_UPA3 &  308\\\\\n\t ALT1\\_UPA1 &  290\\\\\n\t ALT4\\_UPA1 &  202\\\\\n\\end{tabular}\n",
            "text/plain": [
              "  UMF_UPA   n   \n",
              "1 ALT3_UPA2 1098\n",
              "2 ALT4_UPA2 1041\n",
              "3 ALT2_UPA2  766\n",
              "4 ALT2_UPA1  676\n",
              "5 ALT3_UPA1  626\n",
              "6 ALT2_UPA3  308\n",
              "7 ALT1_UPA1  290\n",
              "8 ALT4_UPA1  202"
            ]
          },
          "metadata": {}
        }
      ]
    },
    {
      "cell_type": "markdown",
      "source": [
        "O grupo mais frequente é o ALT3_UPA2, que se refere ao espaço cedido para manejo florestal, onde o dado foi coletado.\n",
        "Os grupos causam diferença principalmente entre a idade das árvores, por tanto, não separar por grupo pode gerar heterocedasticidade dos resíduos.\n",
        "\n",
        "Separado os dados, podemos fazer treinar diferentes modelos para predição, já que o propósito é avaliar qual modelo é mais apropriado.\n",
        "\n",
        "| Modelo | Relação matemática (modelo de regressão) | Autores             |\n",
        "|--------|--------------------------------|---------------------|\n",
        "| 1      | $v = \\beta_0 + \\beta_1 d + \\varepsilon_i$ | Berkhant            |\n",
        "| 2      | $v = \\beta_0 + \\beta_1 d^2 + \\varepsilon_i$ | Koperzky e Gehrhardt |\n",
        "| 3      | $v = \\beta_0 + \\beta_1 d + \\beta_2 d^2 + \\varepsilon_i$ | Hohenadl e Krenn    |\n",
        "| 4      | $\\log v = \\beta_0 + \\beta_1 \\log d + \\beta_2 1/d + \\varepsilon_i$ | Brenac              |\n",
        "| 5      | $\\log v = \\beta_0 + \\beta_1 \\log d + \\varepsilon_i$ | Husch\n",
        "\n",
        "\n",
        "Note que, para a criação de predição em si, nenhum pressuposto foi estabelecido."
      ],
      "metadata": {
        "id": "zbuzqO4tCmdB"
      }
    },
    {
      "cell_type": "code",
      "source": [
        "# Continuando a descritiva e filtrando os dados por espécie e local\n",
        "filt_dados = dados |> filter(`Nome Científico` == \"Tabebuia serratifolia\" & UMF_UPA == \"ALT3_UPA2\")\n",
        "hist(filt_dados$`Volume m3` , main = \"Histograma\" ,xlab = \"Volume (m3)\")"
      ],
      "metadata": {
        "colab": {
          "base_uri": "https://localhost:8080/",
          "height": 437
        },
        "id": "Rl4VtX8yhEge",
        "outputId": "b3eb5c60-e47e-42bf-edff-f8e3fe524d98"
      },
      "execution_count": 5,
      "outputs": [
        {
          "output_type": "display_data",
          "data": {
            "text/plain": [
              "Plot with title “Histograma”"
            ],
            "image/png": "[encoded data removed]"
          },
          "metadata": {
            "image/png": {
              "width": 420,
              "height": 420
            }
          }
        }
      ]
    },
    {
      "cell_type": "markdown",
      "source": [
        "Podemos notar que os dados não têm distribuição normal. Apesar de ainda ser possível criar predições, e de fato faremos, não é possível fazer diagnósticos, criar intervalos de confiança e nem propor incerteza para nossas inferências. Na verdade, a rigor, a abordagem apropriada para esse caso seria recorrer aos modelos lineares generalizados. Isso será feito adiante"
      ],
      "metadata": {
        "id": "kuCZFN6EiVTk"
      }
    },
    {
      "cell_type": "code",
      "source": [
        "# Modelagem (normalidade não garantida)\n",
        "\n",
        "pipe_models = function(dados,volume,dap){\n",
        "modelos = list(md1 =lm(volume ~ dap , data = dados),\n",
        "               md2 =lm(formula = volume ~ I(dap^2), data = dados),\n",
        "               md3 =lm(volume ~ dap + I(dap^2), data = dados),\n",
        "               md4 =lm(log(volume) ~ I(log(dap)) + I(dap^-1), data = dados ),\n",
        "               md5 =lm(log(volume) ~ I(log(dap)), data = dados))\n",
        "  names(modelos) = c(\"Berkhant\" , \"Koperzky e Gehrhardt\",\"Hohenadl e Krenn\", \"Brenac\", \"Husch\")\n",
        "  return(modelos)\n",
        "}\n"
      ],
      "metadata": {
        "id": "Vf0VzSn8DBvp"
      },
      "execution_count": 22,
      "outputs": []
    },
    {
      "cell_type": "code",
      "source": [
        "# Data splitting\n",
        "#install.packages(\"rsample\")\n",
        "library(rsample)\n",
        "\n",
        "i = initial_split(filt_dados , prop = 0.7)\n",
        "filt_dados_treino = training(i)\n",
        "filt_dados_teste = testing(i)"
      ],
      "metadata": {
        "id": "YHWIEtHNm6se"
      },
      "execution_count": 8,
      "outputs": []
    },
    {
      "cell_type": "code",
      "source": [
        "# Matriz de dados e estimação\n",
        "\n",
        "treino = data.frame(\"Volume_m3\" = filt_dados_treino$`Volume m3` , \"DAP\" = filt_dados_treino$`DAP(m)`)\n",
        "teste = data.frame(\"Volume_m3\" = filt_dados_teste$`Volume m3` , \"DAP\" = filt_dados_teste$`DAP(m)`)\n",
        "modelos = pipe_models(dados = treino, volume = treino$Volume_m3, dap = treino$DAP )\n",
        "summary(modelos)\n",
        "\n",
        "#Gosto de criar predições assim para não ter problemas com as transformações de variável\n",
        "\n",
        "pred_1 = coef(modelos$Berkhant)[1] + coef(modelos$Berkhant)[2]*teste$DAP\n",
        "pred_2 = coef(modelos$`Koperzky e Gehrhardt`)[1] + coef(modelos$`Koperzky e Gehrhardt`)[2]*(teste$DAP^2)\n",
        "pred_3 = coef(modelos$`Hohenadl e Krenn`)[1] + coef(modelos$`Hohenadl e Krenn`)[2]*teste$DAP + coef(modelos$`Hohenadl e Krenn`)[3]*(teste$DAP^2)\n",
        "pred_4 = coef(modelos$Brenac)[1] + coef(modelos$Brenac)[2]*log(teste$DAP) + coef(modelos$Brenac)[3]*(teste$DAP^-1)\n",
        "pred_5 = coef(modelos$Husch)[1] + coef(modelos$Husch)[2]*log(teste$DAP)\n",
        "\n",
        "#modelos$Berkhant\n",
        "#modelos$`Koperzky e Gehrhardt`\n",
        "#modelos$`Hohenadl e Krenn`\n",
        "#modelos$Brenac\n",
        "#modelos$Husch\n",
        "\n",
        "\n",
        "plot(x = teste$DAP , y = teste$Volume_m3 , pch = 18 , col = \"gray\" , ylim = c(0 , 16))\n",
        "lines(x =teste$DAP , y= pred_1 , col = 'red')\n",
        "points(x = teste$DAP , y = pred_2 , col = 'green' , pch = 19)\n",
        "points(x = teste$DAP , y = pred_3 , col = 'yellow', pch = 19)\n",
        "points(x = teste$DAP , y = exp(pred_4) , col = 'red' , pch = 19)\n",
        "points(x = teste$DAP , y = exp(pred_5) , col = 'darkblue', pch = 19)\n"
      ],
      "metadata": {
        "colab": {
          "base_uri": "https://localhost:8080/",
          "height": 541
        },
        "id": "sb-jTIjRHBp8",
        "outputId": "f77ba74d-e2dc-45a0-e569-4cebf56dd66e"
      },
      "execution_count": 73,
      "outputs": [
        {
          "output_type": "display_data",
          "data": {
            "text/plain": [
              "                     Length Class Mode\n",
              "Berkhant             12     lm    list\n",
              "Koperzky e Gehrhardt 12     lm    list\n",
              "Hohenadl e Krenn     12     lm    list\n",
              "Brenac               12     lm    list\n",
              "Husch                12     lm    list"
            ]
          },
          "metadata": {}
        },
        {
          "output_type": "display_data",
          "data": {
            "text/plain": [
              "plot without title"
            ],
            "image/png": "[encoded data removed]"
          },
          "metadata": {
            "image/png": {
              "width": 420,
              "height": 420
            }
          }
        }
      ]
    },
    {
      "cell_type": "code",
      "source": [
        "AICS = lapply(modelos , AIC)\n",
        "\n",
        "table_models = NULL\n",
        "\n",
        "table_models$modelos = c(\"Berkhant\" , \"Koperzky e Gehrhardt\",\"Hohenadl e Krenn\", \"Brenac\", \"Husch\")\n",
        "table_models$EQM = c(sum((teste$Volume_m3 - pred_1)^2),\n",
        "sum((teste$Volume_m3 - pred_2)^2),\n",
        "sum((teste$Volume_m3 - pred_3)^2),\n",
        "sum((teste$Volume_m3 - exp(pred_4))^2),\n",
        "sum((teste$Volume_m3 - exp(pred_5))^2))\n",
        "for(m in 1:5) {table_models$AIC[m] = AICS[[m]]}\n",
        "\n",
        "table_models |> as.data.frame() |> arrange(EQM)\n"
      ],
      "metadata": {
        "colab": {
          "base_uri": "https://localhost:8080/",
          "height": 255
        },
        "id": "ulZXbPSxHQ_6",
        "outputId": "9406e3d5-a395-44ea-cc3d-7a522fa3a20b"
      },
      "execution_count": 113,
      "outputs": [
        {
          "output_type": "display_data",
          "data": {
            "text/html": [
              "<table class=\"dataframe\">\n",
              "<caption>A data.frame: 5 × 3</caption>\n",
              "<thead>\n",
              "\t<tr><th scope=col>modelos</th><th scope=col>EQM</th><th scope=col>AIC</th></tr>\n",
              "\t<tr><th scope=col>&lt;chr&gt;</th><th scope=col>&lt;dbl&gt;</th><th scope=col>&lt;dbl&gt;</th></tr>\n",
              "</thead>\n",
              "<tbody>\n",
              "\t<tr><td>Brenac              </td><td>160.0843</td><td>-1122.558</td></tr>\n",
              "\t<tr><td>Hohenadl e Krenn    </td><td>161.1839</td><td> 1563.003</td></tr>\n",
              "\t<tr><td>Koperzky e Gehrhardt</td><td>162.3326</td><td> 1588.132</td></tr>\n",
              "\t<tr><td>Husch               </td><td>168.1181</td><td>-1089.029</td></tr>\n",
              "\t<tr><td>Berkhant            </td><td>175.8919</td><td> 1652.418</td></tr>\n",
              "</tbody>\n",
              "</table>\n"
            ],
            "text/markdown": "\nA data.frame: 5 × 3\n\n| modelos &lt;chr&gt; | EQM &lt;dbl&gt; | AIC &lt;dbl&gt; |\n|---|---|---|\n| Brenac               | 160.0843 | -1122.558 |\n| Hohenadl e Krenn     | 161.1839 |  1563.003 |\n| Koperzky e Gehrhardt | 162.3326 |  1588.132 |\n| Husch                | 168.1181 | -1089.029 |\n| Berkhant             | 175.8919 |  1652.418 |\n\n",
            "text/latex": "A data.frame: 5 × 3\n\\begin{tabular}{lll}\n modelos & EQM & AIC\\\\\n <chr> & <dbl> & <dbl>\\\\\n\\hline\n\t Brenac               & 160.0843 & -1122.558\\\\\n\t Hohenadl e Krenn     & 161.1839 &  1563.003\\\\\n\t Koperzky e Gehrhardt & 162.3326 &  1588.132\\\\\n\t Husch                & 168.1181 & -1089.029\\\\\n\t Berkhant             & 175.8919 &  1652.418\\\\\n\\end{tabular}\n",
            "text/plain": [
              "  modelos              EQM      AIC      \n",
              "1 Brenac               160.0843 -1122.558\n",
              "2 Hohenadl e Krenn     161.1839  1563.003\n",
              "3 Koperzky e Gehrhardt 162.3326  1588.132\n",
              "4 Husch                168.1181 -1089.029\n",
              "5 Berkhant             175.8919  1652.418"
            ]
          },
          "metadata": {}
        }
      ]
    }
  ]
}